{
 "cells": [
  {
   "cell_type": "code",
   "execution_count": 1,
   "id": "fbabc9dc-d897-4793-be7b-60b23d002586",
   "metadata": {},
   "outputs": [],
   "source": [
    "import torch\n",
    "from torchvision import models\n",
    "\n",
    "def load_trained_mobilenetv2(weights_path, num_classes):\n",
    "    \"\"\"\n",
    "    Load a pre-trained MobileNetV2 model.\n",
    "\n",
    "    Args:\n",
    "    weights_path (str): Path to the model's weights file (e.g., 'mobilenetv2_epoch10.pth')\n",
    "    num_classes (int): Number of classes in the classification task, should match the training setup\n",
    "\n",
    "    Returns:\n",
    "    model (torch.nn.Module): Model with loaded weights, ready for inference or further training\n",
    "    \"\"\"\n",
    "    # Initialize the MobileNetV2 architecture without pretrained weights to load custom ones\n",
    "    model = models.mobilenet_v2(pretrained=False)\n",
    "\n",
    "    # Replace the classifier to match the training setup (usually redefined based on the dataset)\n",
    "    model.classifier[1] = torch.nn.Linear(model.last_channel, num_classes)\n",
    "\n",
    "    # Load the trained model parameters (state_dict)\n",
    "    model.load_state_dict(torch.load(weights_path, map_location=torch.device(\"cpu\")))\n",
    "\n",
    "    # Set the model to evaluation mode, suitable for inference phase\n",
    "    model.eval()\n",
    "\n",
    "    return model\n"
   ]
  },
  {
   "cell_type": "code",
   "execution_count": 5,
   "id": "3640edae-31e3-4030-9736-f22cc08f2a76",
   "metadata": {},
   "outputs": [],
   "source": [
    "model = load_trained_mobilenetv2(\"mobilenetv2_epoch10.pth\", num_classes=39)"
   ]
  },
  {
   "cell_type": "code",
   "execution_count": 7,
   "id": "e8e5d890-20bc-457a-97e5-0bc60df99b92",
   "metadata": {},
   "outputs": [],
   "source": [
    "from PIL import Image\n",
    "from torchvision import transforms\n",
    "import torch\n",
    "\n",
    "def predict_image(model, image_path, class_names):\n",
    "    \"\"\"\n",
    "    Perform classification prediction on a single image.\n",
    "\n",
    "    Args:\n",
    "    model (nn.Module): The loaded model\n",
    "    image_path (str): Path to the image file\n",
    "    class_names (list): List of class names, indices correspond to model outputs\n",
    "\n",
    "    Returns:\n",
    "    predicted_class (str): The predicted class name\n",
    "    \"\"\"\n",
    "    # Define image preprocessing steps consistent with training\n",
    "    preprocess = transforms.Compose([\n",
    "        transforms.Resize((224, 224)),        # Resize the image\n",
    "        transforms.ToTensor(),                # Convert image to tensor\n",
    "    ])\n",
    "\n",
    "    image = Image.open(image_path).convert('RGB')\n",
    "    image_tensor = preprocess(image)                 # Apply preprocessing to the image\n",
    "    image_tensor = image_tensor.unsqueeze(0)         # Add batch dimension -> [1, C, H, W]\n",
    "\n",
    "    model.eval()\n",
    "    with torch.no_grad():\n",
    "        outputs = model(image_tensor)                # Forward pass\n",
    "        _, predicted = torch.max(outputs, 1)         # Get the predicted class index\n",
    "\n",
    "    predicted_index = predicted.item()\n",
    "    predicted_class = class_names[predicted_index]   # Map index to class name\n",
    "    return predicted_class\n",
    "\n"
   ]
  },
  {
   "cell_type": "code",
   "execution_count": 9,
   "id": "a9e5074f-1c78-4fa4-a3e2-23339ac3cf72",
   "metadata": {},
   "outputs": [],
   "source": [
    "class_names = [\n",
    "    'Apple___Apple_scab',  # 苹果黑星病 Apple scab\n",
    "    'Apple___Black_rot',  # 苹果黑腐病 Apple Black rot\n",
    "    'Apple___Cedar_apple_rust',  # 苹果雪松锈病 Apple Cedar apple rust\n",
    "    'Apple___healthy',  # 苹果健康 Apple healthy\n",
    "    'Blueberry___healthy',  # 蓝莓健康 Blueberry healthy\n",
    "    'Cherry_(including_sour)___Powdery_mildew',  # 樱桃白粉病 Cherry Powdery mildew\n",
    "    'Cherry_(including_sour)___healthy',  # 樱桃健康 Cherry healthy\n",
    "    'Corn_(maize)___Cercospora_leaf_spot Gray_leaf_spot',  # 玉米灰斑病 Corn Gray leaf spot\n",
    "    'Corn_(maize)___Common_rust_',  # 玉米普通锈病 Corn Common rust\n",
    "    'Corn_(maize)___Northern_Leaf_Blight',  # 玉米北方叶斑病 Corn Northern Leaf Blight\n",
    "    'Corn_(maize)___healthy',  # 玉米健康 Corn healthy\n",
    "    'Grape___Black_rot',  # 葡萄黑腐病 Grape Black rot\n",
    "    'Grape___Esca_(Black_Measles)',  # 葡萄腐烂病 Grape Esca (Black Measles)\n",
    "    'Grape___Leaf_blight_(Isariopsis_Leaf_Spot)',  # 葡萄叶枯病 Grape Leaf blight (Isariopsis Leaf Spot)\n",
    "    'Grape___healthy',  # 葡萄健康 Grape healthy\n",
    "    'Orange___Haunglongbing_(Citrus_greening)',  # 橙黄龙病 Orange Huanglongbing (Citrus greening)\n",
    "    'Peach___Bacterial_spot',  # 桃细菌性斑点 Peach Bacterial spot\n",
    "    'Peach___healthy',  # 桃健康 Peach healthy\n",
    "    'Pepper,_bell___Bacterial_spot',  # 灯笼椒细菌性斑点 Pepper, bell Bacterial spot\n",
    "    'Pepper,_bell___healthy',  # 灯笼椒健康 Pepper, bell healthy\n",
    "    'Potato___Early_blight',  # 马铃薯早疫病 Potato Early blight\n",
    "    'Potato___Late_blight',  # 马铃薯晚疫病 Potato Late blight\n",
    "    'Potato___healthy',  # 马铃薯健康 Potato healthy\n",
    "    'Raspberry___healthy',  # 树莓健康 Raspberry healthy\n",
    "    'Soybean___healthy',  # 大豆健康 Soybean healthy\n",
    "    'Squash___Powdery_mildew',  # 南瓜白粉病 Squash Powdery mildew\n",
    "    'Strawberry___Leaf_scorch',  # 草莓叶灼病 Strawberry Leaf scorch\n",
    "    'Strawberry___healthy',  # 草莓健康 Strawberry healthy\n",
    "    'Tomato___Bacterial_spot',  # 番茄细菌性斑点 Tomato Bacterial spot\n",
    "    'Tomato___Early_blight',  # 番茄早疫病 Tomato Early blight\n",
    "    'Tomato___Late_blight',  # 番茄晚疫病 Tomato Late blight\n",
    "    'Tomato___Leaf_Mold',  # 番茄叶霉病 Tomato Leaf Mold\n",
    "    'Tomato___Septoria_leaf_spot',  # 番茄叶斑病 Tomato Septoria leaf spot\n",
    "    'Tomato___Spider_mites Two-spotted_spider_mite',  # 番茄二斑叶螨 Tomato Spider mites (Two-spotted spider mite)\n",
    "    'Tomato___Target_Spot',  # 番茄靶斑病 Tomato Target Spot\n",
    "    'Tomato___Tomato_Yellow_Leaf_Curl_Virus',  # 番茄黄化卷叶病毒病 Tomato Yellow Leaf Curl Virus\n",
    "    'Tomato___Tomato_mosaic_virus',  # 番茄花叶病毒病 Tomato mosaic virus\n",
    "    'Tomato___healthy',  # 番茄健康 Tomato healthy\n",
    "    'background'  # 背景背景（非植物）Background (non-plant)\n",
    "]\n"
   ]
  },
  {
   "cell_type": "code",
   "execution_count": 15,
   "id": "6034cc86-d8c5-4c5e-a931-3c34a0a5a7ee",
   "metadata": {},
   "outputs": [
    {
     "name": "stdout",
     "output_type": "stream",
     "text": [
      "result： Apple___Black_rot\n"
     ]
    }
   ],
   "source": [
    "\n",
    "pred = predict_image(model, \"apple_black_rot.png\", class_names)\n",
    "print(\"result：\", pred)"
   ]
  },
  {
   "cell_type": "code",
   "execution_count": 19,
   "id": "f776b62b-ab16-4497-a510-24f00eba90ff",
   "metadata": {},
   "outputs": [
    {
     "name": "stdout",
     "output_type": "stream",
     "text": [
      "result： Apple___Apple_scab\n"
     ]
    }
   ],
   "source": [
    "pred = predict_image(model, \"Apple_scab.png\", class_names)\n",
    "print(\"result：\", pred)"
   ]
  },
  {
   "cell_type": "code",
   "execution_count": 23,
   "id": "830f5fe4-13de-45b5-a057-829f9c560356",
   "metadata": {},
   "outputs": [
    {
     "name": "stdout",
     "output_type": "stream",
     "text": [
      "result： Corn_(maize)___Northern_Leaf_Blight\n"
     ]
    }
   ],
   "source": [
    "pred = predict_image(model, \"Corn_Northern.png\", class_names)\n",
    "print(\"result：\", pred)"
   ]
  },
  {
   "cell_type": "code",
   "execution_count": 25,
   "id": "dbda8c06-7c37-46bd-b9f5-c4b051e3c35d",
   "metadata": {},
   "outputs": [
    {
     "name": "stdout",
     "output_type": "stream",
     "text": [
      "result： Peach___Bacterial_spot\n"
     ]
    }
   ],
   "source": [
    "pred = predict_image(model, \"peach_bacterial.png\", class_names)\n",
    "print(\"result：\", pred)"
   ]
  }
 ],
 "metadata": {
  "kernelspec": {
   "display_name": "Python 3 (ipykernel)",
   "language": "python",
   "name": "python3"
  },
  "language_info": {
   "codemirror_mode": {
    "name": "ipython",
    "version": 3
   },
   "file_extension": ".py",
   "mimetype": "text/x-python",
   "name": "python",
   "nbconvert_exporter": "python",
   "pygments_lexer": "ipython3",
   "version": "3.12.3"
  }
 },
 "nbformat": 4,
 "nbformat_minor": 5
}
