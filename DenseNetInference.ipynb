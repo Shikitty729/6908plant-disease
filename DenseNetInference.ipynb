{
 "cells": [
  {
   "cell_type": "code",
   "execution_count": 4,
   "id": "c0f8d58a-0604-4fd7-846b-15ca8a695ded",
   "metadata": {},
   "outputs": [
    {
     "name": "stdout",
     "output_type": "stream",
     "text": [
      "Image captured and saved as test.jpg\n"
     ]
    }
   ],
   "source": [
    "# import cv2\n",
    "\n",
    "# # Initialize the webcam\n",
    "# cap = cv2.VideoCapture(0)\n",
    "\n",
    "# # Check if the webcam is opened correctly\n",
    "# if not cap.isOpened():\n",
    "#     raise IOError(\"Cannot open webcam\")\n",
    "\n",
    "# # Read a frame from the webcam\n",
    "# ret, frame = cap.read()\n",
    "\n",
    "# # Release the webcam\n",
    "# cap.release()\n",
    "\n",
    "# # Save the captured image\n",
    "# cv2.imwrite('test.jpg', frame)\n",
    "import cv2\n",
    "import time\n",
    "\n",
    "# Initialize the webcam\n",
    "cap = cv2.VideoCapture(0)\n",
    "\n",
    "# Check if the webcam is opened correctly\n",
    "if not cap.isOpened():\n",
    "    raise IOError(\"Cannot open webcam\")\n",
    "\n",
    "# Warm-up: Read and display frames for 2 seconds\n",
    "start_time = time.time()\n",
    "while True:\n",
    "    ret, frame = cap.read()\n",
    "    if not ret:\n",
    "        print(\"Failed to grab frame\")\n",
    "        break\n",
    "    cv2.imshow('Preview', frame)\n",
    "    if cv2.waitKey(1) & 0xFF == ord('q'):\n",
    "        break\n",
    "    if time.time() - start_time > 5:\n",
    "        break\n",
    "\n",
    "# Capture the final frame\n",
    "ret, frame = cap.read()\n",
    "if ret:\n",
    "    cv2.imwrite('test.jpg', frame)\n",
    "    print(\"Image captured and saved as test.jpg\")\n",
    "else:\n",
    "    print(\"Failed to capture image\")\n",
    "\n",
    "# Release the webcam and close windows\n",
    "cap.release()\n",
    "cv2.destroyAllWindows()\n"
   ]
  },
  {
   "cell_type": "code",
   "execution_count": 15,
   "id": "da28228b-0942-4e9f-b033-73eeee1fd669",
   "metadata": {},
   "outputs": [
    {
     "name": "stdout",
     "output_type": "stream",
     "text": [
      "Looking in indexes: https://pypi.org/simple, https://www.piwheels.org/simple\n",
      "Requirement already satisfied: numpy==1.24.4 in /home/student/Downloads/rpi/lib/python3.11/site-packages (1.24.4)\n"
     ]
    }
   ],
   "source": [
    "!pip install numpy==1.24.4"
   ]
  },
  {
   "cell_type": "code",
   "execution_count": 5,
   "id": "bc15ba79-57f6-4ce3-b9c3-8afd0b41e2f7",
   "metadata": {},
   "outputs": [
    {
     "name": "stdout",
     "output_type": "stream",
     "text": [
      "1.24.4\n"
     ]
    }
   ],
   "source": [
    "import numpy as np\n",
    "print(np.__version__)"
   ]
  },
  {
   "cell_type": "code",
   "execution_count": null,
   "id": "785c2b07-c718-4e2f-9ced-d7aeff47d8f4",
   "metadata": {},
   "outputs": [],
   "source": [
    "disease_types = ['Pepper__bell___Bacterial_spot','Pepper__bell___healthy','Potato___Early_blight','Potato___Late_blight','Potato___healthy','Tomato_Bacterial_spot','Tomato_Early_blight','Tomato_Late_blight','Tomato_Leaf_Mold','Tomato_Septoria_leaf_spot','Tomato_Spider_mites_Two_spotted_spider_mite','Tomato__Target_Spot','Tomato__Tomato_YellowLeaf__Curl_Virus','Tomato__Tomato_mosaic_virus','Tomato_healthy']"
   ]
  },
  {
   "cell_type": "code",
   "execution_count": 34,
   "id": "bad4d3ec-aef2-41e4-80ec-8b70824cc331",
   "metadata": {},
   "outputs": [
    {
     "name": "stdout",
     "output_type": "stream",
     "text": [
      "Predicted class index: 6\n"
     ]
    }
   ],
   "source": [
    "import numpy as np\n",
    "from PIL import Image\n",
    "import tflite_runtime.interpreter as tflite\n",
    "\n",
    "# Load the TFLite model\n",
    "interpreter = tflite.Interpreter(model_path=\"model.tflite\")\n",
    "interpreter.allocate_tensors()\n",
    "\n",
    "# Get input & output details\n",
    "input_details = interpreter.get_input_details()\n",
    "output_details = interpreter.get_output_details()\n",
    "\n",
    "# Load image and preprocess\n",
    "img = Image.open(\"test.jpg\").resize((64, 64))  # Resize to match model\n",
    "input_data = np.expand_dims(np.array(img, dtype=np.float32) / 255.0, axis=0)\n",
    "\n",
    "# Set tensor and invoke\n",
    "interpreter.set_tensor(input_details[0]['index'], input_data)\n",
    "interpreter.invoke()\n",
    "\n",
    "# Get prediction\n",
    "output_data = interpreter.get_tensor(output_details[0]['index'])\n",
    "predicted_class = np.argmax(output_data)\n",
    "\n",
    "print(\"Predicted class index:\", predicted_class)\n"
   ]
  },
  {
   "cell_type": "code",
   "execution_count": 43,
   "id": "f0d7fa5f-63a8-40b9-89fa-942bded40331",
   "metadata": {},
   "outputs": [
    {
     "name": "stdout",
     "output_type": "stream",
     "text": [
      "Input shape expected by model: [ 1 64 64  3]\n",
      "Output raw scores: [[9.6489974e-05 6.2589941e-04 1.3634019e-05 3.8881024e-07 2.2641209e-06\n",
      "  6.0926538e-07 9.9782640e-01 9.3772018e-04 6.9394206e-05 4.0118385e-04\n",
      "  1.5544374e-06 8.6129758e-06 4.0829683e-08 1.5591728e-05 2.2331136e-07]]\n",
      "Sum of scores (should be ~1.0 if softmax): 1.0\n",
      "Predicted class index: 6\n",
      "Predicted disease label: Tomato_Early_blight\n"
     ]
    }
   ],
   "source": [
    "import numpy as np\n",
    "from PIL import Image\n",
    "import tflite_runtime.interpreter as tflite\n",
    "\n",
    "# Define the disease types list\n",
    "disease_types = [\n",
    "    'Pepper__bell___Bacterial_spot',\n",
    "    'Pepper__bell___healthy',\n",
    "    'Potato___Early_blight',\n",
    "    'Potato___Late_blight',\n",
    "    'Potato___healthy',\n",
    "    'Tomato_Bacterial_spot',\n",
    "    'Tomato_Early_blight',\n",
    "    'Tomato_Late_blight',\n",
    "    'Tomato_Leaf_Mold',\n",
    "    'Tomato_Septoria_leaf_spot',\n",
    "    'Tomato_Spider_mites_Two_spotted_spider_mite',\n",
    "    'Tomato__Target_Spot',\n",
    "    'Tomato__Tomato_YellowLeaf__Curl_Virus',\n",
    "    'Tomato__Tomato_mosaic_virus',\n",
    "    'Tomato_healthy'\n",
    "]\n",
    "\n",
    "# Load the TFLite model\n",
    "interpreter = tflite.Interpreter(model_path=\"model.tflite\")\n",
    "interpreter.allocate_tensors()\n",
    "\n",
    "# Get input & output details\n",
    "input_details = interpreter.get_input_details()\n",
    "output_details = interpreter.get_output_details()\n",
    "\n",
    "print(\"Input shape expected by model:\", input_details[0]['shape'])\n",
    "\n",
    "# Load image and preprocess\n",
    "img = Image.open(\"test.jpg\").resize((64, 64))  # Resize to match model\n",
    "input_data = np.expand_dims(np.array(img, dtype=np.float32) / 255.0, axis=0)\n",
    "\n",
    "# Set tensor and invoke\n",
    "interpreter.set_tensor(input_details[0]['index'], input_data)\n",
    "interpreter.invoke()\n",
    "\n",
    "# Get prediction\n",
    "output_data = interpreter.get_tensor(output_details[0]['index'])\n",
    "predicted_class = np.argmax(output_data)\n",
    "print(\"Output raw scores:\", output_data)\n",
    "print(\"Sum of scores (should be ~1.0 if softmax):\", np.sum(output_data))\n",
    "# print(\"Input dtype:\", input_details[0]['dtype'])\n",
    "# print(\"Output dtype:\", output_details[0]['dtype'])\n",
    "\n",
    "# Retrieve the disease label\n",
    "predicted_label = disease_types[predicted_class]\n",
    "\n",
    "print(\"Predicted class index:\", predicted_class)\n",
    "print(\"Predicted disease label:\", predicted_label)"
   ]
  },
  {
   "cell_type": "code",
   "execution_count": null,
   "id": "49681f68-7b59-4f7a-ad1d-10586a65e595",
   "metadata": {},
   "outputs": [],
   "source": []
  }
 ],
 "metadata": {
  "kernelspec": {
   "display_name": "Python (rpi)",
   "language": "python",
   "name": "rpi"
  },
  "language_info": {
   "codemirror_mode": {
    "name": "ipython",
    "version": 3
   },
   "file_extension": ".py",
   "mimetype": "text/x-python",
   "name": "python",
   "nbconvert_exporter": "python",
   "pygments_lexer": "ipython3",
   "version": "3.11.2"
  }
 },
 "nbformat": 4,
 "nbformat_minor": 5
}
